{
 "cells": [
  {
   "cell_type": "markdown",
   "metadata": {
    "slideshow": {
     "slide_type": "slide"
    }
   },
   "source": [
    "## Histograms\n",
    "\n",
    "How many bins should I use in a histogram? Though it is typically not necessary to bin the data before estimating\n",
    "model parameters there are a number of somewhat principled ways of deciding on your bin size (other that choosing something the \"makes it look good\")\n",
    "\n",
    "_Scott's rule_ suggests a bin width\n",
    "\n",
    "> $\\Delta_b = {3.5 \\sigma \\over N^{1/3}}$\n",
    "\n",
    "with $\\sigma$ is the sample standard deviation, and $N$ is the sample size. This minimizes the mean integrated square error (assumes distribution is Gaussian)\n",
    "\n",
    "<!-- TEASER_END -->"
   ]
  },
  {
   "cell_type": "code",
   "execution_count": 1,
   "metadata": {
    "slideshow": {
     "slide_type": "slide"
    }
   },
   "outputs": [
    {
     "ename": "ImportError",
     "evalue": "cannot import name 'GMM' from 'sklearn.mixture' (/Users/drft/Desktop/ASTRO_302/A302_2019/miniconda3/lib/python3.7/site-packages/sklearn/mixture/__init__.py)",
     "output_type": "error",
     "traceback": [
      "\u001b[0;31m---------------------------------------------------------------------------\u001b[0m",
      "\u001b[0;31mImportError\u001b[0m                               Traceback (most recent call last)",
      "\u001b[0;32m<ipython-input-1-5f070c1562ce>\u001b[0m in \u001b[0;36m<module>\u001b[0;34m\u001b[0m\n\u001b[1;32m      3\u001b[0m \u001b[0;32mfrom\u001b[0m \u001b[0mmatplotlib\u001b[0m \u001b[0;32mimport\u001b[0m \u001b[0mpyplot\u001b[0m \u001b[0;32mas\u001b[0m \u001b[0mplt\u001b[0m\u001b[0;34m\u001b[0m\u001b[0;34m\u001b[0m\u001b[0m\n\u001b[1;32m      4\u001b[0m \u001b[0;32mfrom\u001b[0m \u001b[0mscipy\u001b[0m \u001b[0;32mimport\u001b[0m \u001b[0mstats\u001b[0m\u001b[0;34m\u001b[0m\u001b[0;34m\u001b[0m\u001b[0m\n\u001b[0;32m----> 5\u001b[0;31m \u001b[0;32mfrom\u001b[0m \u001b[0mastroML\u001b[0m\u001b[0;34m.\u001b[0m\u001b[0mplotting\u001b[0m \u001b[0;32mimport\u001b[0m \u001b[0mhist\u001b[0m\u001b[0;34m\u001b[0m\u001b[0;34m\u001b[0m\u001b[0m\n\u001b[0m\u001b[1;32m      6\u001b[0m \u001b[0;34m\u001b[0m\u001b[0m\n\u001b[1;32m      7\u001b[0m \u001b[0;34m\u001b[0m\u001b[0m\n",
      "\u001b[0;32m~/Desktop/ASTRO_302/A302_2019/miniconda3/lib/python3.7/site-packages/astroML/plotting/__init__.py\u001b[0m in \u001b[0;36m<module>\u001b[0;34m\u001b[0m\n\u001b[0;32m----> 1\u001b[0;31m \u001b[0;32mfrom\u001b[0m \u001b[0;34m.\u001b[0m\u001b[0mhist_tools\u001b[0m \u001b[0;32mimport\u001b[0m \u001b[0mhist\u001b[0m\u001b[0;34m\u001b[0m\u001b[0;34m\u001b[0m\u001b[0m\n\u001b[0m\u001b[1;32m      2\u001b[0m \u001b[0;32mfrom\u001b[0m \u001b[0;34m.\u001b[0m\u001b[0mscatter_contour\u001b[0m \u001b[0;32mimport\u001b[0m \u001b[0mscatter_contour\u001b[0m\u001b[0;34m\u001b[0m\u001b[0;34m\u001b[0m\u001b[0m\n\u001b[1;32m      3\u001b[0m \u001b[0;32mfrom\u001b[0m \u001b[0;34m.\u001b[0m\u001b[0mmcmc\u001b[0m \u001b[0;32mimport\u001b[0m \u001b[0mplot_mcmc\u001b[0m\u001b[0;34m\u001b[0m\u001b[0;34m\u001b[0m\u001b[0m\n\u001b[1;32m      4\u001b[0m \u001b[0;32mfrom\u001b[0m \u001b[0;34m.\u001b[0m\u001b[0mellipse\u001b[0m \u001b[0;32mimport\u001b[0m \u001b[0mplot_tissot_ellipse\u001b[0m\u001b[0;34m\u001b[0m\u001b[0;34m\u001b[0m\u001b[0m\n\u001b[1;32m      5\u001b[0m \u001b[0;32mfrom\u001b[0m \u001b[0;34m.\u001b[0m\u001b[0mmultiaxes\u001b[0m \u001b[0;32mimport\u001b[0m \u001b[0mMultiAxes\u001b[0m\u001b[0;34m\u001b[0m\u001b[0;34m\u001b[0m\u001b[0m\n",
      "\u001b[0;32m~/Desktop/ASTRO_302/A302_2019/miniconda3/lib/python3.7/site-packages/astroML/plotting/hist_tools.py\u001b[0m in \u001b[0;36m<module>\u001b[0;34m\u001b[0m\n\u001b[1;32m      3\u001b[0m \u001b[0;32mimport\u001b[0m \u001b[0mnumpy\u001b[0m \u001b[0;32mas\u001b[0m \u001b[0mnp\u001b[0m\u001b[0;34m\u001b[0m\u001b[0;34m\u001b[0m\u001b[0m\n\u001b[1;32m      4\u001b[0m \u001b[0;34m\u001b[0m\u001b[0m\n\u001b[0;32m----> 5\u001b[0;31m \u001b[0;32mfrom\u001b[0m \u001b[0mastroML\u001b[0m\u001b[0;34m.\u001b[0m\u001b[0mdensity_estimation\u001b[0m \u001b[0;32mimport\u001b[0m\u001b[0;31m\\\u001b[0m\u001b[0;34m\u001b[0m\u001b[0;34m\u001b[0m\u001b[0m\n\u001b[0m\u001b[1;32m      6\u001b[0m     \u001b[0mscotts_bin_width\u001b[0m\u001b[0;34m,\u001b[0m \u001b[0mfreedman_bin_width\u001b[0m\u001b[0;34m,\u001b[0m\u001b[0;31m\\\u001b[0m\u001b[0;34m\u001b[0m\u001b[0;34m\u001b[0m\u001b[0m\n\u001b[1;32m      7\u001b[0m     \u001b[0mknuth_bin_width\u001b[0m\u001b[0;34m,\u001b[0m \u001b[0mbayesian_blocks\u001b[0m\u001b[0;34m\u001b[0m\u001b[0;34m\u001b[0m\u001b[0m\n",
      "\u001b[0;32m~/Desktop/ASTRO_302/A302_2019/miniconda3/lib/python3.7/site-packages/astroML/density_estimation/__init__.py\u001b[0m in \u001b[0;36m<module>\u001b[0;34m\u001b[0m\n\u001b[1;32m      1\u001b[0m \u001b[0;32mfrom\u001b[0m \u001b[0;34m.\u001b[0m\u001b[0mdensity_estimation\u001b[0m \u001b[0;32mimport\u001b[0m \u001b[0mKDE\u001b[0m\u001b[0;34m,\u001b[0m \u001b[0mKNeighborsDensity\u001b[0m\u001b[0;34m\u001b[0m\u001b[0;34m\u001b[0m\u001b[0m\n\u001b[0;32m----> 2\u001b[0;31m \u001b[0;32mfrom\u001b[0m \u001b[0;34m.\u001b[0m\u001b[0mxdeconv\u001b[0m \u001b[0;32mimport\u001b[0m \u001b[0mXDGMM\u001b[0m\u001b[0;34m\u001b[0m\u001b[0;34m\u001b[0m\u001b[0m\n\u001b[0m\u001b[1;32m      3\u001b[0m \u001b[0;32mfrom\u001b[0m \u001b[0;34m.\u001b[0m\u001b[0mhisttools\u001b[0m \u001b[0;32mimport\u001b[0m\u001b[0;31m\\\u001b[0m\u001b[0;34m\u001b[0m\u001b[0;34m\u001b[0m\u001b[0m\n\u001b[1;32m      4\u001b[0m     \u001b[0mscotts_bin_width\u001b[0m\u001b[0;34m,\u001b[0m \u001b[0mfreedman_bin_width\u001b[0m\u001b[0;34m,\u001b[0m \u001b[0mknuth_bin_width\u001b[0m\u001b[0;34m,\u001b[0m \u001b[0mhistogram\u001b[0m\u001b[0;34m\u001b[0m\u001b[0;34m\u001b[0m\u001b[0m\n\u001b[1;32m      5\u001b[0m \u001b[0;32mfrom\u001b[0m \u001b[0;34m.\u001b[0m\u001b[0mbayesian_blocks\u001b[0m \u001b[0;32mimport\u001b[0m \u001b[0mbayesian_blocks\u001b[0m\u001b[0;34m\u001b[0m\u001b[0;34m\u001b[0m\u001b[0m\n",
      "\u001b[0;32m~/Desktop/ASTRO_302/A302_2019/miniconda3/lib/python3.7/site-packages/astroML/density_estimation/xdeconv.py\u001b[0m in \u001b[0;36m<module>\u001b[0;34m\u001b[0m\n\u001b[1;32m     15\u001b[0m \u001b[0;32mfrom\u001b[0m \u001b[0mscipy\u001b[0m \u001b[0;32mimport\u001b[0m \u001b[0mlinalg\u001b[0m\u001b[0;34m\u001b[0m\u001b[0;34m\u001b[0m\u001b[0m\n\u001b[1;32m     16\u001b[0m \u001b[0;34m\u001b[0m\u001b[0m\n\u001b[0;32m---> 17\u001b[0;31m \u001b[0;32mfrom\u001b[0m \u001b[0msklearn\u001b[0m\u001b[0;34m.\u001b[0m\u001b[0mmixture\u001b[0m \u001b[0;32mimport\u001b[0m \u001b[0mGMM\u001b[0m\u001b[0;34m\u001b[0m\u001b[0;34m\u001b[0m\u001b[0m\n\u001b[0m\u001b[1;32m     18\u001b[0m \u001b[0;32mfrom\u001b[0m \u001b[0;34m.\u001b[0m\u001b[0;34m.\u001b[0m\u001b[0mutils\u001b[0m \u001b[0;32mimport\u001b[0m \u001b[0mlogsumexp\u001b[0m\u001b[0;34m,\u001b[0m \u001b[0mlog_multivariate_gaussian\u001b[0m\u001b[0;34m,\u001b[0m \u001b[0mcheck_random_state\u001b[0m\u001b[0;34m\u001b[0m\u001b[0;34m\u001b[0m\u001b[0m\n\u001b[1;32m     19\u001b[0m \u001b[0;34m\u001b[0m\u001b[0m\n",
      "\u001b[0;31mImportError\u001b[0m: cannot import name 'GMM' from 'sklearn.mixture' (/Users/drft/Desktop/ASTRO_302/A302_2019/miniconda3/lib/python3.7/site-packages/sklearn/mixture/__init__.py)"
     ]
    }
   ],
   "source": [
    "%matplotlib inline\n",
    "import numpy as np\n",
    "from matplotlib import pyplot as plt\n",
    "from scipy import stats\n",
    "from astroML.plotting import hist\n",
    "\n",
    "\n",
    "def plot_labeled_histogram(style, data, name,\n",
    "                           x, pdf_true, ax=None,\n",
    "                           hide_x=False,\n",
    "                           hide_y=False):\n",
    "\n",
    "    counts, bins, patches = hist(data, bins=style, ax=ax,\n",
    "                                 color='k', histtype='step', density=True)\n",
    "\n",
    "    ax.text(0.99, 0.95, '%s:\\n%i bins' % (name, len(counts)),\n",
    "            transform=ax.transAxes,\n",
    "            ha='right', va='top', fontsize=12)\n",
    "\n",
    "    ax.fill(x, pdf_true, '-', color='#CCCCCC', zorder=0)\n",
    "\n",
    "    if hide_x:\n",
    "        ax.xaxis.set_major_formatter(plt.NullFormatter())\n",
    "    if hide_y:\n",
    "        ax.yaxis.set_major_formatter(plt.NullFormatter())\n",
    "\n",
    "    ax.set_xlim(-5, 5)\n",
    "\n",
    "    return ax\n",
    "\n",
    "#------------------------------------------------------------\n",
    "# Set up distributions:\n",
    "Npts = 5000\n",
    "np.random.seed(0)\n",
    "x = np.linspace(-6, 6, 1000)\n",
    "\n",
    "# Gaussian distribution\n",
    "data_G = stats.norm(0, 1).rvs(Npts)\n",
    "pdf_G = stats.norm(0, 1).pdf(x)\n",
    "\n",
    "# Non-Gaussian distribution\n",
    "distributions = [stats.laplace(0, 0.4),\n",
    "                 stats.norm(-1.0, 0.2),\n",
    "                 stats.norm(1.0, 0.2)]\n",
    "\n",
    "weights = np.array([0.8, 0.1, 0.1])\n",
    "weights /= weights.sum()\n",
    "\n",
    "data_NG = np.hstack(d.rvs(int(w * Npts))\n",
    "                    for (d, w) in zip(distributions, weights))\n",
    "pdf_NG = sum(w * d.pdf(x)\n",
    "             for (d, w) in zip(distributions, weights))\n",
    "\n",
    "#------------------------------------------------------------\n",
    "# Plot results\n",
    "fig = plt.figure(figsize=(20, 10))\n",
    "fig.subplots_adjust(hspace=0, left=0.05, right=0.95, wspace=0.05)\n",
    "ax = [fig.add_subplot(3, 2, i + 1) for i in range(6)]\n",
    "\n",
    "# first column: Gaussian distribution\n",
    "inbins = np.arange(-6, 6, 0.1)\n",
    "\n",
    "plot_labeled_histogram(inbins, data_G, 'Simple', x, pdf_G,\n",
    "                       ax=ax[0], hide_x=True, hide_y=True)\n",
    "\n",
    "inbins = np.arange(-6, 6, 0.5)\n",
    "plot_labeled_histogram(inbins, data_G, 'Simple coarse', x, pdf_G,\n",
    "                       ax=ax[2], hide_x=True, hide_y=True)\n",
    "\n",
    "plot_labeled_histogram('scotts', data_G, 'Scott\\'s Rule', x, pdf_G,\n",
    "                      ax=ax[4], hide_x=True, hide_y=True)\n",
    "\n",
    "ax[0].set_title('Gaussian distribution')\n",
    "ax[2].set_ylabel('P(x)')\n",
    "ax[4].set_xlabel('x')\n",
    "\n",
    "# second column: non-gaussian distribution\n",
    "inbins = np.arange(-6, 6, 0.1)\n",
    "plot_labeled_histogram(inbins, data_NG, 'Simple', x, pdf_NG,\n",
    "                       ax=ax[1], hide_x=True, hide_y=True)\n",
    "\n",
    "inbins = np.arange(-6, 6, 0.5)\n",
    "plot_labeled_histogram(inbins, data_NG, 'Simple coarse', x, pdf_NG,\n",
    "                       ax=ax[3], hide_x=True, hide_y=True)\n",
    "\n",
    "plot_labeled_histogram('scotts', data_NG, 'Scott\\'s Rule', x, pdf_NG,\n",
    "                       ax=ax[5], hide_x=True, hide_y=True)\n",
    "\n",
    "ax[1].set_title('non-Gaussian distribution')\n",
    "ax[5].set_xlabel('x')\n",
    "\n",
    "plt.show()"
   ]
  },
  {
   "cell_type": "code",
   "execution_count": 5,
   "metadata": {},
   "outputs": [
    {
     "name": "stdout",
     "output_type": "stream",
     "text": [
      "Collecting sklearn\n",
      "  Downloading https://files.pythonhosted.org/packages/1e/7a/dbb3be0ce9bd5c8b7e3d87328e79063f8b263b2b1bfa4774cb1147bfcd3f/sklearn-0.0.tar.gz\n",
      "Requirement already satisfied: scikit-learn in /Users/drft/Desktop/ASTRO_302/A302_2019/miniconda3/lib/python3.7/site-packages (from sklearn) (0.20.1)\n",
      "Requirement already satisfied: numpy>=1.8.2 in /Users/drft/Desktop/ASTRO_302/A302_2019/miniconda3/lib/python3.7/site-packages (from scikit-learn->sklearn) (1.15.4)\n",
      "Requirement already satisfied: scipy>=0.13.3 in /Users/drft/Desktop/ASTRO_302/A302_2019/miniconda3/lib/python3.7/site-packages (from scikit-learn->sklearn) (1.1.0)\n",
      "Building wheels for collected packages: sklearn\n",
      "  Running setup.py bdist_wheel for sklearn ... \u001b[?25ldone\n",
      "\u001b[?25h  Stored in directory: /Users/drft/Library/Caches/pip/wheels/76/03/bb/589d421d27431bcd2c6da284d5f2286c8e3b2ea3cf1594c074\n",
      "Successfully built sklearn\n",
      "Installing collected packages: sklearn\n",
      "Successfully installed sklearn-0.0\n"
     ]
    }
   ],
   "source": [
    "!pip install sklearn"
   ]
  },
  {
   "cell_type": "code",
   "execution_count": null,
   "metadata": {},
   "outputs": [],
   "source": []
  }
 ],
 "metadata": {
  "celltoolbar": "Slideshow",
  "kernelspec": {
   "display_name": "Python 3",
   "language": "python",
   "name": "python3"
  },
  "language_info": {
   "codemirror_mode": {
    "name": "ipython",
    "version": 3
   },
   "file_extension": ".py",
   "mimetype": "text/x-python",
   "name": "python",
   "nbconvert_exporter": "python",
   "pygments_lexer": "ipython3",
   "version": "3.7.2"
  }
 },
 "nbformat": 4,
 "nbformat_minor": 1
}
